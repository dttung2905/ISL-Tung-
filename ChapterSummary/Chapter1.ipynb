{
 "cells": [
  {
   "cell_type": "markdown",
   "metadata": {},
   "source": [
    " # 1. Measuring the Quality of Fit (Regression)"
   ]
  },
  {
   "cell_type": "markdown",
   "metadata": {},
   "source": [
    "In regression setting, the most commonly-used measure is the mean squared error (MSE) <br> \n",
    "\n",
    "\\begin{equation*}\n",
    "\\ MSE = \\frac{1}{n} \\sum_{i=1}^n(y_i - \\hat{f}(x_i))^2\n",
    "\\end{equation*}\n",
    " "
   ]
  },
  {
   "cell_type": "markdown",
   "metadata": {},
   "source": [
    "- We dont care about your training MSE, we care about test MSE\n",
    "- Degree of freedom summarize the "
   ]
  },
  {
   "cell_type": "markdown",
   "metadata": {},
   "source": [
    "# 2 Bias Variance Trade off "
   ]
  },
  {
   "cell_type": "markdown",
   "metadata": {},
   "source": [
    "the expected test MSE for a given value xo , can always be decomposed into the sum of three fundamental quantities \n",
    "\n",
    "\\begin{equation*}\n",
    "\\ E(y_0 - \\hat{f}(x_0))^2= Var(\\hat{f}(x_0) + [Bias(\\hat{f}(x_0))]^2 + Var(\\epsilon))\n",
    "\\end{equation*}"
   ]
  },
  {
   "cell_type": "markdown",
   "metadata": {},
   "source": [
    "- Variance refers to the amount by which f would change if we estimate it using a different training data set \n",
    "- test MSE can never lie below Var(e). This is the irreducable error\n",
    "- Bias referes to the error that is introduced by approximating a rea-life problem , which may be extremely complicated by a much simpler model \n",
    "- We use more flexible methods, the variance will increase and bias will decrease . Increaseing flexibility to some point will have little impace on the bias but starts to significantly increase the variance \n"
   ]
  },
  {
   "cell_type": "markdown",
   "metadata": {},
   "source": [
    "# 3 The classification setting"
   ]
  },
  {
   "cell_type": "markdown",
   "metadata": {},
   "source": [
    "we seek to estimate f on the basis of training observation {$ (x_1,,y_1),..(x_n, y_n) $} where $ y_1, ... y_n $ are qualitative"
   ]
  },
  {
   "cell_type": "markdown",
   "metadata": {},
   "source": [
    "This expression $\\sqrt{3x-1}+(1+x)^2$ is an example of a TeX inline equation in a **[Markdown-formatted](http://daringfireball.net/projects/markdown/)** sentence."
   ]
  },
  {
   "cell_type": "code",
   "execution_count": null,
   "metadata": {},
   "outputs": [],
   "source": []
  }
 ],
 "metadata": {
  "kernelspec": {
   "display_name": "Python 3",
   "language": "python",
   "name": "python3"
  },
  "language_info": {
   "codemirror_mode": {
    "name": "ipython",
    "version": 3
   },
   "file_extension": ".py",
   "mimetype": "text/x-python",
   "name": "python",
   "nbconvert_exporter": "python",
   "pygments_lexer": "ipython3",
   "version": "3.6.8"
  }
 },
 "nbformat": 4,
 "nbformat_minor": 2
}
