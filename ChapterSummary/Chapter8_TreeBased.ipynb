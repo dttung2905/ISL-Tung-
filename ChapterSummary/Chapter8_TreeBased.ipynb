{
 "cells": [
  {
   "cell_type": "markdown",
   "metadata": {},
   "source": [
    "# 8.1.2 Classification Trees"
   ]
  },
  {
   "cell_type": "markdown",
   "metadata": {},
   "source": [
    "- For a classfication tree, we predict that each observation belongs to the most commonly occuring \n",
    "class of training observation in the region to which it belong\n",
    "- We use classificaiton error rate. The fraction of the training observations in that region that \n",
    "do not belong to the most common class --> but this is not enough\n",
    "- Gini index is used\n",
    "\\begin{equation*} \n",
    "G = \\sum_{k=1}^{K}\\hat{p}_{mk}(1-\\hat{p}_{mk})        \n",
    "\\end{equation*}\n",
    "\n",
    "- Another one was cross-entropy\n",
    "\\begin{equation*} \n",
    "D = \\sum_{k=1}^{K}\\hat{p}_{mk} log(\\hat{p}_{mk})\n",
    "\\end{equation*}\n",
    "\n",
    "--> cross-entropy will take on a small value if the mth node is pure . They are used to evaluate the quality of a perticular split \n",
    "\n",
    "--> but the classification error rate is preferable if prediction accuracy of the final pruned tree is the goal\n"
   ]
  },
  {
   "cell_type": "code",
   "execution_count": null,
   "metadata": {},
   "outputs": [],
   "source": []
  }
 ],
 "metadata": {
  "kernelspec": {
   "display_name": "Python 3",
   "language": "python",
   "name": "python3"
  },
  "language_info": {
   "codemirror_mode": {
    "name": "ipython",
    "version": 3
   },
   "file_extension": ".py",
   "mimetype": "text/x-python",
   "name": "python",
   "nbconvert_exporter": "python",
   "pygments_lexer": "ipython3",
   "version": "3.7.2"
  }
 },
 "nbformat": 4,
 "nbformat_minor": 2
}
