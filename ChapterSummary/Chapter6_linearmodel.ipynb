{
 "cells": [
  {
   "cell_type": "markdown",
   "metadata": {},
   "source": [
    "# Overview\n",
    "\n",
    "- Subset selection : Identify a subset of the p predictors that we believe to be related to the repsonse . \n",
    "- Shrinkage. Fit a model involving all p predictors. However,the estimated coefficients are shrunken towards zero relative to the least squares estimates. This shrinkage has the effect on reducing the variance . Depending on waht type of shrinkage is performed, some of the coefficients maya be estimated to be exactly zero. Hence, shrinkage methods can also peform variable selection\n",
    "- Dimension Reduction: project the p predictors into a M-dimensional subspace , where M ,<p . This is achieve by computing M different linear combinations , or projections , of the variables. Then these M projections "
   ]
  }
 ],
 "metadata": {
  "kernelspec": {
   "display_name": "Python 3",
   "language": "python",
   "name": "python3"
  },
  "language_info": {
   "codemirror_mode": {
    "name": "ipython",
    "version": 3
   },
   "file_extension": ".py",
   "mimetype": "text/x-python",
   "name": "python",
   "nbconvert_exporter": "python",
   "pygments_lexer": "ipython3",
   "version": "3.7.2"
  }
 },
 "nbformat": 4,
 "nbformat_minor": 2
}
