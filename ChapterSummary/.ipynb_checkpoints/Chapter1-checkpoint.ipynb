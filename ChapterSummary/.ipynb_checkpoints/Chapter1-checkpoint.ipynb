{
 "cells": [
  {
   "cell_type": "markdown",
   "metadata": {},
   "source": [
    " # 1. Measuring the Quality of Fit (Regression)"
   ]
  },
  {
   "cell_type": "markdown",
   "metadata": {},
   "source": [
    "In regression setting, the most commonly-used measure is the mean squared error (MSE) <br> \n",
    "\n",
    "\\begin{equation*}\n",
    "\\ MSE = \\frac{1}{n} \\sum_{i=1}^n(y_i - \\hat{f}(x_i))^2\n",
    "\\end{equation*}\n",
    " "
   ]
  },
  {
   "cell_type": "markdown",
   "metadata": {},
   "source": [
    "- We dont care about your training MSE, we care about test MSE\n",
    "- Degree of freedom summarize the "
   ]
  },
  {
   "cell_type": "markdown",
   "metadata": {},
   "source": [
    "# 2 Bias Variance Trade off "
   ]
  },
  {
   "cell_type": "markdown",
   "metadata": {},
   "source": [
    "the expected test MSE for a given value xo , can always be decomposed into the sum of three fundamental quantities \n",
    "\n",
    "\\begin{equation*}\n",
    "\\ E(y_0 - \\hat{f}(x_0))^2= Var(\\hat{f}(x_0) + [Bias(\\hat{f}(x_0))]^2 + Var(\\epsilon))\n",
    "\\end{equation*}"
   ]
  },
  {
   "cell_type": "markdown",
   "metadata": {},
   "source": [
    "- Variance refers to the amount by which f would change if we estimate it using a different training data set \n",
    "- test MSE can never lie below Var(e). This is the irreducable error\n",
    "- Bias referes to the error that is introduced by approximating a rea-life problem , which may be extremely complicated by a much simpler model \n",
    "- We use more flexible methods, the variance will increase and bias will decrease . Increaseing flexibility to some point will have little impace on the bias but starts to significantly increase the variance \n"
   ]
  },
  {
   "cell_type": "markdown",
   "metadata": {},
   "source": [
    "# 3 The classification setting"
   ]
  },
  {
   "cell_type": "markdown",
   "metadata": {},
   "source": [
    "we seek to estimate f on the basis of training observation {$ (x_1,,y_1),..(x_n, y_n) $} where $ y_1, ... y_n $ are qualitative. We use training error rate, the proportion of mistakes that are made if we apply our estimate f to the training observations "
   ]
  },
  {
   "cell_type": "markdown",
   "metadata": {},
   "source": [
    "\\begin{equation*}\n",
    "\\frac{1}{n} \\sum_{i=1}^nI(y_i \\neq \\hat{y_i})\n",
    "\\end{equation*}"
   ]
  },
  {
   "cell_type": "markdown",
   "metadata": {},
   "source": [
    "- $\\hat{y_i}$ is the predicted class label for the ith observation using $\\hat{f}$\n",
    "\n",
    "\n",
    "- $\n",
    "  I(y_i \\neq \\hat{y_i}=\\begin{cases}\n",
    "    1, & \\text{if $\\hat{y_1} = y_1 $}.\\\\\n",
    "    0, & \\text{$\\hat{y_1} \\neq y_1$ }.\n",
    "  \\end{cases}\n",
    "$\n",
    "\n"
   ]
  },
  {
   "cell_type": "markdown",
   "metadata": {},
   "source": [
    "# 4 The K-Nearest Neighbors "
   ]
  },
  {
   "cell_type": "markdown",
   "metadata": {},
   "source": [
    "The bayes classifier serves as an unattainbale gold standard against which to compare other methods . Given a positive interger K and a test observation $x_0$ , the KNN classifier first identifies the K points in the training data that are closest to $x_0$ , represeented by $N_0$. It then estimates the conditional proibability for class j as the fraction of points in $N_0$ whose response values equal j:"
   ]
  },
  {
   "cell_type": "markdown",
   "metadata": {},
   "source": [
    "\\begin{equation*}\n",
    "Pr(Y = j | X = x_0) = \\frac{1}{K} \\sum_{i \\in N_0} I(y_i = j)\n",
    "\\end{equation*}"
   ]
  },
  {
   "cell_type": "code",
   "execution_count": null,
   "metadata": {},
   "outputs": [],
   "source": []
  }
 ],
 "metadata": {
  "kernelspec": {
   "display_name": "Python 3",
   "language": "python",
   "name": "python3"
  },
  "language_info": {
   "codemirror_mode": {
    "name": "ipython",
    "version": 3
   },
   "file_extension": ".py",
   "mimetype": "text/x-python",
   "name": "python",
   "nbconvert_exporter": "python",
   "pygments_lexer": "ipython3",
   "version": "3.6.8"
  }
 },
 "nbformat": 4,
 "nbformat_minor": 2
}
