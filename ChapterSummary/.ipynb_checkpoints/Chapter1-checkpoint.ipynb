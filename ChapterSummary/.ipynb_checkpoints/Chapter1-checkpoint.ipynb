{
 "cells": [
  {
   "cell_type": "markdown",
   "metadata": {},
   "source": [
    " # 1. Measuring the Quality of Fit "
   ]
  },
  {
   "cell_type": "markdown",
   "metadata": {},
   "source": [
    "In regression setting, the most commonly-used measure is the mean squared error (MSE) <br> \n",
    "\n",
    "\\begin{equation*}\n",
    "\\ MSE = \\frac{1}{n} \\sum_{i=1}^n(y_i - \\hat{f}(x_i))^2\n",
    "\\end{equation*}\n",
    " "
   ]
  },
  {
   "cell_type": "markdown",
   "metadata": {},
   "source": [
    "- We dont care about your training MSE, we care about test MSE\n",
    "- Degree of freedom summarize the "
   ]
  },
  {
   "cell_type": "markdown",
   "metadata": {},
   "source": [
    "# 2 Bias Variance Trade off "
   ]
  },
  {
   "cell_type": "markdown",
   "metadata": {},
   "source": [
    "the expected test MSE for a given value xo , can always be decomposed into the sum of three fundamental quantities \n",
    "\n",
    "\\begin{equation*}\n",
    "\\ E(y_0 - \\hat{f}(x_0))^2= Var(\\hat{f}(x_0) + [Bias(\\hat{f}(x_0))]^2 + Var(\\epsilon))\n",
    "\\end{equation*}"
   ]
  },
  {
   "cell_type": "code",
   "execution_count": null,
   "metadata": {},
   "outputs": [],
   "source": [
    "- Variance refers to the amount by which f would change if we estimate it using a different training data set "
   ]
  }
 ],
 "metadata": {
  "kernelspec": {
   "display_name": "Python 3",
   "language": "python",
   "name": "python3"
  },
  "language_info": {
   "codemirror_mode": {
    "name": "ipython",
    "version": 3
   },
   "file_extension": ".py",
   "mimetype": "text/x-python",
   "name": "python",
   "nbconvert_exporter": "python",
   "pygments_lexer": "ipython3",
   "version": "3.7.0"
  }
 },
 "nbformat": 4,
 "nbformat_minor": 2
}
